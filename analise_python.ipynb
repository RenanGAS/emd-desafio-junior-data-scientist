{
  "cells": [
    {
      "cell_type": "markdown",
      "metadata": {
        "id": "BtT7e0Idqz1c"
      },
      "source": [
        "## **Desafio Técnico**\n",
        "\n",
        "Para as questões de 1 a 5 foram utilizadas as tabelas **chamados_marco_abril** e **bairros**, e para as questões de 6 a 10, as tabelas **chamados_2021_2022_2023** e **eventos**. Pelo conjunto de dados Chamado 1746 ter mais de **3 GB**, selecionou-se subconjuntos menores (**chamados_marco_abril** e **chamados_2021_2022_2023**) para servirem como base de dados para as consultas. Nota-se que os scripts SQLs utilizados para gerar estes conjuntos, buscam incluir dados a mais que o necessário para as questões, com o objetivo de simular o uso de um conjunto arbitrário, deixando todas transformações necessárias para responder as perguntas, a cargo do código.\n",
        "\n",
        "Sobre as soluções, utilizou-se ***list comprehension*** e outras formas de manipulação de dados não usuais, com o objetivo de minimizar a complexidade assintótica do código. Cada solução contém comentários para ilustração das operações.\n",
        "\n",
        "Recomenda-se realizar a execução deste Notebook na plataforma **Google Colab**. As instruções para execução estão em [README.md](README.md)."
      ]
    },
    {
      "cell_type": "code",
      "execution_count": null,
      "metadata": {
        "id": "USmfyxz8QLqK"
      },
      "outputs": [],
      "source": [
        "!pip install basedosdados\n",
        "\n",
        "import basedosdados as bd\n",
        "import pandas as pd\n",
        "import datetime"
      ]
    },
    {
      "cell_type": "code",
      "execution_count": 2,
      "metadata": {
        "colab": {
          "base_uri": "https://localhost:8080/"
        },
        "id": "c2N0SyD_E1fe",
        "outputId": "43f8667b-13d8-40aa-b328-f312216b1297"
      },
      "outputs": [
        {
          "name": "stderr",
          "output_type": "stream",
          "text": [
            "Downloading: 100%|██████████| 149781/149781 [00:10<00:00, 14159.92rows/s]\n"
          ]
        }
      ],
      "source": [
        "query_chamados_marco_abril = \"\"\"\n",
        "    SELECT tipo, id_bairro, data_inicio, data_particao FROM `datario.administracao_servicos_publicos.chamado_1746`\n",
        "      WHERE data_particao BETWEEN '2023-03-01' AND '2023-04-01'\"\"\"\n",
        "chamados_marco_abril = bd.read_sql(query_chamados_marco_abril, billing_project_id=\"emd-desafio-data-scientist\")"
      ]
    },
    {
      "cell_type": "code",
      "execution_count": 3,
      "metadata": {
        "colab": {
          "base_uri": "https://localhost:8080/"
        },
        "id": "ORF1BN22OBPi",
        "outputId": "63dd8836-cbbe-4eb4-c8b2-06e77ebee7ad"
      },
      "outputs": [
        {
          "name": "stderr",
          "output_type": "stream",
          "text": [
            "Downloading: 100%|██████████| 164/164 [00:00<00:00, 440.31rows/s]\n"
          ]
        }
      ],
      "source": [
        "query_bairros = \"SELECT id_bairro, nome, subprefeitura FROM `datario.dados_mestres.bairro`\"\n",
        "bairros = bd.read_sql(query_bairros, billing_project_id=\"emd-desafio-data-scientist\")"
      ]
    },
    {
      "cell_type": "code",
      "execution_count": 4,
      "metadata": {
        "colab": {
          "base_uri": "https://localhost:8080/"
        },
        "id": "ldJQ_DlaM-KU",
        "outputId": "23eaf932-2b24-4c87-897b-680d762b5e75"
      },
      "outputs": [
        {
          "name": "stderr",
          "output_type": "stream",
          "text": [
            "Downloading: 100%|██████████| 1678541/1678541 [02:29<00:00, 11211.15rows/s]\n"
          ]
        }
      ],
      "source": [
        "query_chamados_2021_2022_2023 = \"\"\"\n",
        "    SELECT tipo, subtipo, id_bairro, data_inicio, data_particao FROM `datario.administracao_servicos_publicos.chamado_1746`\n",
        "      WHERE data_particao BETWEEN '2021-12-01' AND '2023-12-01'\"\"\"\n",
        "chamados_2021_2022_2023 = bd.read_sql(query_chamados_2021_2022_2023, billing_project_id=\"emd-desafio-data-scientist\")"
      ]
    },
    {
      "cell_type": "code",
      "execution_count": 5,
      "metadata": {
        "colab": {
          "base_uri": "https://localhost:8080/"
        },
        "id": "0w9yhyVi8TAu",
        "outputId": "c73ab176-85f3-42d3-c62d-6bf32f7ca303"
      },
      "outputs": [
        {
          "name": "stderr",
          "output_type": "stream",
          "text": [
            "Downloading: 100%|██████████| 4/4 [00:00<00:00, 11.18rows/s]\n"
          ]
        }
      ],
      "source": [
        "query_eventos = \"SELECT data_inicial, data_final, evento FROM `datario.turismo_fluxo_visitantes.rede_hoteleira_ocupacao_eventos`\"\n",
        "eventos = bd.read_sql(query_eventos, billing_project_id=\"emd-desafio-data-scientist\")"
      ]
    },
    {
      "cell_type": "code",
      "execution_count": 6,
      "metadata": {
        "colab": {
          "base_uri": "https://localhost:8080/"
        },
        "id": "QSSP2qU5WZ7L",
        "outputId": "a9b609d0-4ff9-4d77-ea0d-bb370cbe17ae"
      },
      "outputs": [
        {
          "name": "stdout",
          "output_type": "stream",
          "text": [
            "1. Quantos chamados foram abertos no dia 01/04/2023?\n",
            "73\n"
          ]
        }
      ],
      "source": [
        "# 1. Quantos chamados foram abertos no dia 01/04/2023?\n",
        "\n",
        "chamados_marco_abril[\"data_particao\"].astype(\"datetime64\")\n",
        "\n",
        "particao_abril = datetime.date(2023, 4, 1)\n",
        "\n",
        "# Seleção dos chamados com data_particao == \"2023-04-01\"\n",
        "chamados_abril = chamados_marco_abril[chamados_marco_abril[\"data_particao\"] == particao_abril]\n",
        "\n",
        "dia_alvo = datetime.date(2023, 4, 1)\n",
        "\n",
        "# Seleção dos chamados com data_inicio == \"2023-04-01\"\n",
        "chamados_diaalvo = chamados_abril[(chamados_abril[\"data_inicio\"].dt.date).values == dia_alvo]\n",
        "\n",
        "numero_chamados_diaalvo = len(chamados_diaalvo)\n",
        "\n",
        "print(\"1. Quantos chamados foram abertos no dia 01/04/2023?\")\n",
        "print(numero_chamados_diaalvo)"
      ]
    },
    {
      "cell_type": "code",
      "execution_count": 16,
      "metadata": {
        "colab": {
          "base_uri": "https://localhost:8080/"
        },
        "id": "OFqVKN1r2I_l",
        "outputId": "b5f79955-963b-45c6-b06f-2439f5294044"
      },
      "outputs": [
        {
          "name": "stdout",
          "output_type": "stream",
          "text": [
            "2. Qual o tipo de chamado que mais teve chamados abertos no dia 01/04/2023?\n",
            "Poluição sonora ( 24 )\n"
          ]
        }
      ],
      "source": [
        "# 2. Qual o tipo de chamado que mais teve chamados abertos no dia 01/04/2023?\n",
        "\n",
        "tipo_maior_soma = \"\"\n",
        "maior_soma = 0\n",
        "\n",
        "# Tipos de chamados feitos em data_inicio == \"2023-04-01\"\n",
        "tipos_chamados_diaalvo = chamados_diaalvo[\"tipo\"].unique()\n",
        "\n",
        "# Procura do tipo com mais chamados no dia alvo\n",
        "for tipo in tipos_chamados_diaalvo:\n",
        "  soma = (chamados_diaalvo[\"tipo\"] == tipo).sum()\n",
        "\n",
        "  if soma > maior_soma:\n",
        "    maior_soma = soma\n",
        "    tipo_maior_soma = tipo\n",
        "\n",
        "print(\"2. Qual o tipo de chamado que mais teve chamados abertos no dia 01/04/2023?\")\n",
        "print(tipo_maior_soma,\"(\",maior_soma,\")\")"
      ]
    },
    {
      "cell_type": "code",
      "execution_count": 8,
      "metadata": {
        "colab": {
          "base_uri": "https://localhost:8080/"
        },
        "id": "jtVy7D51BBbr",
        "outputId": "250e232c-1079-4fa5-997d-0022a5eebe54"
      },
      "outputs": [
        {
          "name": "stdout",
          "output_type": "stream",
          "text": [
            "3. Quais os nomes dos 3 bairros que mais tiveram chamados abertos nesse dia?\n",
            "[('Leblon', 6), ('Campo Grande', 6), ('Engenho de Dentro', 8)]\n"
          ]
        }
      ],
      "source": [
        "# 3. Quais os nomes dos 3 bairros que mais tiveram chamados abertos nesse dia?\n",
        "\n",
        "# Lista de Ids dos bairros da cidade\n",
        "ids_bairros = bairros[\"id_bairro\"]\n",
        "\n",
        "# Construção de um dicionário com o Id de um bairro como chave, e o número de chamados\n",
        "# feitos no mesmo (no dia alvo) como valor.\n",
        "rank_bairros = {\n",
        "    id_bairro: (chamados_diaalvo[\"id_bairro\"] == id_bairro).sum()\n",
        "    for id_bairro\n",
        "    in ids_bairros\n",
        "    }\n",
        "\n",
        "# Ordenação das entradas do dicionário por número de chamados (bairro[1]).\n",
        "# bairro[0] equivale ao Id do bairro.\n",
        "rank_bairros = sorted(rank_bairros.items(), key = lambda bairro: bairro[1])\n",
        "\n",
        "# Percorre os três últimos elementos do dicionário (rank_bairros[-3:]) para formar\n",
        "# tuplas do tipo (nome_bairro, numero_chamados).\n",
        "# bairros[bairros[\"id_bairro\"] == bairro[0]] seleciona a linha de um bairro por\n",
        "# comparação de Ids.\n",
        "# .iat[0, 1] seleciona o nome do bairro.\n",
        "top_3_bairros = [\n",
        "    (bairros[bairros[\"id_bairro\"] == bairro[0]].iat[0, 1], bairro[1])\n",
        "    for bairro\n",
        "    in rank_bairros[-3:]\n",
        "    ]\n",
        "\n",
        "print(\"3. Quais os nomes dos 3 bairros que mais tiveram chamados abertos nesse dia?\")\n",
        "print(top_3_bairros)"
      ]
    },
    {
      "cell_type": "code",
      "execution_count": 9,
      "metadata": {
        "colab": {
          "base_uri": "https://localhost:8080/"
        },
        "id": "b-oO7uLRZ6WM",
        "outputId": "c27e55f4-765f-4b40-9ee1-59a37c4257e4"
      },
      "outputs": [
        {
          "name": "stdout",
          "output_type": "stream",
          "text": [
            "4. Qual o nome da subprefeitura com mais chamados abertos nesse dia?\n",
            "('Zona Norte', 25)\n"
          ]
        }
      ],
      "source": [
        "# 4. Qual o nome da subprefeitura com mais chamados abertos nesse dia?\n",
        "\n",
        "# Lista dos nomes das prefeituras\n",
        "subprefeituras = bairros[\"subprefeitura\"].unique()\n",
        "\n",
        "# Dicionário (1) com o Id de um bairro como chave e o nome da sua subprefeitura como valor\n",
        "relacao_id_subprefeitura = bairros.set_index(\"id_bairro\")[\"subprefeitura\"].to_dict()\n",
        "\n",
        "# Inicializa dicionário (2). Terá nomes de subprefeituras como chave e o número de\n",
        "# chamados feitos nas mesmas (no dia alvo) como valor.\n",
        "contagem_chamados_subprefeitura_diaalvo = {\n",
        "    subprefeitura: 0\n",
        "    for subprefeitura\n",
        "    in subprefeituras\n",
        "}\n",
        "\n",
        "# Percorre chamados feitos no dia alvo\n",
        "for i in range(numero_chamados_diaalvo):\n",
        "  id_bairro = chamados_diaalvo.iat[i, 1]\n",
        "\n",
        "  if id_bairro == None:\n",
        "    continue\n",
        "\n",
        "  # Utiliza dicionário (1) para recuperar o nome da subprefeitura do bairro\n",
        "  subprefeitura = relacao_id_subprefeitura[id_bairro]\n",
        "\n",
        "  # Utiliza dicionário (2) para incrementar a contagem da subprefeitura em questão\n",
        "  contagem_chamados_subprefeitura_diaalvo[subprefeitura] += 1\n",
        "\n",
        "# Ordenação do dicionário (2) por número de chamados\n",
        "contagem_chamados_subprefeitura_diaalvo = sorted(contagem_chamados_subprefeitura_diaalvo.items(), key = lambda contagem : contagem[1])\n",
        "\n",
        "print(\"4. Qual o nome da subprefeitura com mais chamados abertos nesse dia?\")\n",
        "print(contagem_chamados_subprefeitura_diaalvo[-1])"
      ]
    },
    {
      "cell_type": "code",
      "execution_count": 10,
      "metadata": {
        "colab": {
          "base_uri": "https://localhost:8080/"
        },
        "id": "sHzJ9jWIRt8z",
        "outputId": "b237ee27-d780-4145-ea52-571d6802b71f"
      },
      "outputs": [
        {
          "name": "stdout",
          "output_type": "stream",
          "text": [
            "5. Existe algum chamado aberto nesse dia que não foi associado a um bairro ou subprefeitura na tabela de bairros? Se sim, por que isso acontece?\n",
            "\n",
            "Número de chamados sem bairro: 1\n"
          ]
        }
      ],
      "source": [
        "# 5. Existe algum chamado aberto nesse dia que não foi associado a um bairro ou subprefeitura na tabela de bairros? Se sim, por que isso acontece?\n",
        "\n",
        "num_chamados_sem_bairro = 0\n",
        "\n",
        "# Percorre os chamados feitos no dia alvo, à procura de um chamado se bairro associado\n",
        "for i in range(numero_chamados_diaalvo):\n",
        "  id_bairro = chamados_diaalvo.iat[i, 1]\n",
        "\n",
        "  if id_bairro == None:\n",
        "    num_chamados_sem_bairro += 1\n",
        "    #print(chamados_diaalvo.iloc[i][0:2])\n",
        "\n",
        "print(\"5. Existe algum chamado aberto nesse dia que não foi associado a um bairro ou subprefeitura na tabela de bairros? Se sim, por que isso acontece?\")\n",
        "print(\"\\nNúmero de chamados sem bairro:\", num_chamados_sem_bairro)"
      ]
    },
    {
      "cell_type": "code",
      "execution_count": 18,
      "metadata": {
        "colab": {
          "base_uri": "https://localhost:8080/"
        },
        "id": "Utn2pJTCJf7P",
        "outputId": "a854c1d9-f642-49e1-b44b-1ce3f7c87536"
      },
      "outputs": [
        {
          "name": "stdout",
          "output_type": "stream",
          "text": [
            "6. Quantos chamados com o subtipo \"Perturbação do sossego\" foram abertos desde 01/01/2022 até 31/12/2023 (incluindo extremidades)?\n",
            "42408\n"
          ]
        }
      ],
      "source": [
        "# 6. Quantos chamados com o subtipo \"Perturbação do sossego\" foram abertos desde 01/01/2022 até 31/12/2023 (incluindo extremidades)?\n",
        "\n",
        "# Lista das partições existentes do início de 2022 até o fim de 2023 (todas no formato YYYY-MM-01)\n",
        "data_particoes = pd.date_range(start=\"01/01/2022\",end=\"31/12/2023\", freq=\"MS\").date\n",
        "\n",
        "chamados_2021_2022_2023[\"data_particao\"].astype(\"datetime64\")\n",
        "\n",
        "# Contagem do número de chamados feitos em cada partição.\n",
        "# chamados_2021_2022_2023[\"data_particao\"] == particao identifica as linhas que contém chamados com data_particao = particao\n",
        "# com o valor True, e as demais com False.\n",
        "# (chamados_2021_2022_2023[filtro_anterior][\"subtipo\"] == \"Perturbação do sossego\").values.tolist()\n",
        "# seleciona as linhas do DataFrame correspondentes aos valores True, e identifica as linhas com chamados do subtipo \"Perturbação do sossego\"\n",
        "# com valor True, e as demais com False.\n",
        "# sum(operacoes_acima) resulta no número de chamados numa particao. Valores True somam + 1, e False valem 0.\n",
        "contagem_chamados_particoes = [\n",
        "    sum((chamados_2021_2022_2023[chamados_2021_2022_2023[\"data_particao\"] == particao][\"subtipo\"] == \"Perturbação do sossego\").values.tolist())\n",
        "    for particao\n",
        "    in data_particoes\n",
        "]\n",
        "\n",
        "print('6. Quantos chamados com o subtipo \"Perturbação do sossego\" foram abertos desde 01/01/2022 até 31/12/2023 (incluindo extremidades)?')\n",
        "print(sum(contagem_chamados_particoes))"
      ]
    },
    {
      "cell_type": "code",
      "execution_count": 12,
      "metadata": {
        "colab": {
          "base_uri": "https://localhost:8080/"
        },
        "id": "VdsFKdrHQ2TH",
        "outputId": "792dbda9-eabc-4860-fdc8-b159cfb05763"
      },
      "outputs": [
        {
          "name": "stdout",
          "output_type": "stream",
          "text": [
            "7. Selecione os chamados com esse subtipo que foram abertos durante os eventos contidos na tabela de eventos (Reveillon, Carnaval e Rock in Rio).\n",
            "              tipo                 subtipo id_bairro         data_inicio  \\\n",
            "0  Poluição sonora  Perturbação do sossego        20 2022-12-30 00:42:27   \n",
            "1  Poluição sonora  Perturbação do sossego        25 2022-12-30 01:41:32   \n",
            "2  Poluição sonora  Perturbação do sossego        45 2022-12-30 22:53:52   \n",
            "3  Poluição sonora  Perturbação do sossego        83 2022-12-30 16:48:54   \n",
            "4  Poluição sonora  Perturbação do sossego       106 2022-12-30 22:51:00   \n",
            "\n",
            "  data_particao  \n",
            "0    2022-12-01  \n",
            "1    2022-12-01  \n",
            "2    2022-12-01  \n",
            "3    2022-12-01  \n",
            "4    2022-12-01  \n",
            "Número de linhas:  1212\n"
          ]
        }
      ],
      "source": [
        "# 7. Selecione os chamados com esse subtipo que foram abertos durante os eventos contidos na tabela de eventos (Reveillon, Carnaval e Rock in Rio).\n",
        "\n",
        "dados_reveillon = eventos.loc[eventos[\"evento\"] == \"Reveillon\"]\n",
        "dados_carnaval = eventos.loc[eventos[\"evento\"] == \"Carnaval\"]\n",
        "dados_rockrio = eventos.loc[eventos[\"evento\"] == \"Rock in Rio\"]\n",
        "\n",
        "periodo_reveillon = []\n",
        "\n",
        "# Este e os dois loops abaixo registram os períodos de cada evento. Por exemplo, o Reveillon e o Carnaval\n",
        "# apresentam um só período cada (Reveillon: 2022-12-30 a 2023-01-01, Carnaval: 2023-02-18 a 2023-02-21).\n",
        "# Já o Rock in Rio apresenta dois: 2022-09-08 a 2022-09-11, e 2022-09-02 a 2022-09-04.\n",
        "for i in range(len(dados_reveillon)):\n",
        "  periodo_reveillon.append(pd.date_range(dados_reveillon.iat[i, 0], dados_reveillon.iat[i, 1]).date.tolist())\n",
        "\n",
        "periodo_carnaval = []\n",
        "for i in range(len(dados_carnaval)):\n",
        "  periodo_carnaval.append(pd.date_range(dados_carnaval.iat[i, 0], dados_carnaval.iat[i, 1]).date.tolist())\n",
        "\n",
        "periodo_rockrio = []\n",
        "for i in range(len(dados_rockrio)):\n",
        "  periodo_rockrio.append(pd.date_range(dados_rockrio.iat[i, 0], dados_rockrio.iat[i, 1]).date.tolist())\n",
        "\n",
        "# Este e os dois loops abaixo definem as partições necessárias para as consultas de\n",
        "# cada evento. Por exemplo, o Carnaval precisará da partição 2023-02-01, e o Rock in Rio\n",
        "# da partição 2022-09-01. Já o Reveillon, fará uso das partições 2022-12-01 e 2023-01-01.\n",
        "set_particoes_reveillon = set()\n",
        "for i in range(len(periodo_reveillon)):\n",
        "  particoes_periodo = [\n",
        "      pd.to_datetime(data).to_numpy().astype('datetime64[M]')\n",
        "      for data\n",
        "      in periodo_reveillon[i]\n",
        "  ]\n",
        "  set_particoes_reveillon.update(particoes_periodo)\n",
        "\n",
        "list_particoes_reveillon = list(set_particoes_reveillon)\n",
        "\n",
        "set_particoes_carnaval = set()\n",
        "for i in range(len(periodo_carnaval)):\n",
        "  particoes_periodo = [\n",
        "      pd.to_datetime(data).to_numpy().astype('datetime64[M]')\n",
        "      for data\n",
        "      in periodo_carnaval[i]\n",
        "  ]\n",
        "  set_particoes_carnaval.update(particoes_periodo)\n",
        "\n",
        "list_particoes_carnaval = list(set_particoes_carnaval)\n",
        "\n",
        "set_particoes_rockrio = set()\n",
        "for i in range(len(periodo_rockrio)):\n",
        "  particoes_periodo = [\n",
        "      pd.to_datetime(data).to_numpy().astype('datetime64[M]')\n",
        "      for data\n",
        "      in periodo_rockrio[i]\n",
        "  ]\n",
        "  set_particoes_rockrio.update(particoes_periodo)\n",
        "\n",
        "list_particoes_rockrio = list(set_particoes_rockrio)\n",
        "\n",
        "# Armazenará o resultado da questão: chamados do subtipo \"Perturbação do sossego\" feitos nos eventos\n",
        "selecao_chamados_subtipo_eventos = []\n",
        "\n",
        "# Este e os dois loops de mesma identação abaixo, adicionam ao resultado, os chamados com o determinado\n",
        "# subtipo em cada evento.\n",
        "for particao in list_particoes_reveillon:\n",
        "\n",
        "  # Seleciona os chamados de uma partição do evento\n",
        "  dados_particao = chamados_2021_2022_2023[chamados_2021_2022_2023[\"data_particao\"] == particao]\n",
        "\n",
        "  # Um evento tem um ou mais períodos, e cada período tem um ou mais dias.\n",
        "  for periodo in periodo_reveillon:\n",
        "    for data in periodo:\n",
        "      # Armazena os chamados feitos num dia do evento.\n",
        "      dados_data = dados_particao[dados_particao[\"data_inicio\"].dt.date == data]\n",
        "\n",
        "      # Adiciona ao resultado, os chamados do determinado subtipo feitos neste dia\n",
        "      selecao_chamados_subtipo_eventos.extend(dados_data[dados_data[\"subtipo\"] == \"Perturbação do sossego\"].values.tolist())\n",
        "\n",
        "for particao in list_particoes_carnaval:\n",
        "  dados_particao = chamados_2021_2022_2023[chamados_2021_2022_2023[\"data_particao\"] == particao]\n",
        "\n",
        "  for periodo in periodo_carnaval:\n",
        "    for data in periodo:\n",
        "      dados_data = dados_particao[dados_particao[\"data_inicio\"].dt.date == data]\n",
        "      selecao_chamados_subtipo_eventos.extend(dados_data[dados_data[\"subtipo\"] == \"Perturbação do sossego\"].values.tolist())\n",
        "\n",
        "for particao in list_particoes_rockrio:\n",
        "  dados_particao = chamados_2021_2022_2023[chamados_2021_2022_2023[\"data_particao\"] == particao]\n",
        "\n",
        "  for periodo in periodo_rockrio:\n",
        "    for data in periodo:\n",
        "      dados_data = dados_particao[dados_particao[\"data_inicio\"].dt.date == data]\n",
        "      selecao_chamados_subtipo_eventos.extend(dados_data[dados_data[\"subtipo\"] == \"Perturbação do sossego\"].values.tolist())\n",
        "\n",
        "df_selecao_chamados_subtipo_eventos = pd.DataFrame(selecao_chamados_subtipo_eventos, columns=[\"tipo\", \"subtipo\", \"id_bairro\", \"data_inicio\", \"data_particao\"])\n",
        "\n",
        "print(\"7. Selecione os chamados com esse subtipo que foram abertos durante os eventos contidos na tabela de eventos (Reveillon, Carnaval e Rock in Rio).\")\n",
        "print(df_selecao_chamados_subtipo_eventos.head())\n",
        "print(\"Número de linhas: \", df_selecao_chamados_subtipo_eventos.shape[0])"
      ]
    },
    {
      "cell_type": "code",
      "execution_count": 19,
      "metadata": {
        "colab": {
          "base_uri": "https://localhost:8080/"
        },
        "id": "pyyggNAjkp6n",
        "outputId": "2b4b6482-3d6c-4a51-a573-26e1b5612a0d"
      },
      "outputs": [
        {
          "name": "stdout",
          "output_type": "stream",
          "text": [
            "8. Quantos chamados desse subtipo foram abertos em cada evento?\n",
            "Número de chamados no Reveillon:  137\n",
            "Número de chamados no Carnaval:  241\n",
            "Número de chamados no Rock in Rio:  834\n",
            "9. Qual evento teve a maior média diária de chamados abertos desse subtipo?\n",
            "Média Reveillon:  45.666666666666664\n",
            "Média Carnaval:  60.25\n",
            "Média Rock in Rio:  119.14285714285714\n"
          ]
        }
      ],
      "source": [
        "# 8. Quantos chamados desse subtipo foram abertos em cada evento?\n",
        "# 9. Qual evento teve a maior média diária de chamados abertos desse subtipo?\n",
        "\n",
        "dados_reveillon = eventos.loc[eventos[\"evento\"] == \"Reveillon\"]\n",
        "dados_carnaval = eventos.loc[eventos[\"evento\"] == \"Carnaval\"]\n",
        "dados_rockrio = eventos.loc[eventos[\"evento\"] == \"Rock in Rio\"]\n",
        "\n",
        "# Asim como na questão 7, este e os dois loops abaixo definem o período dos eventos.\n",
        "# Além disso, para questão 9 faz-se a contagem dos dias nestes períodos.\n",
        "periodo_reveillon = []\n",
        "num_dias_reveillon = 0\n",
        "for i in range(len(dados_reveillon)):\n",
        "  datas_reveillon = pd.date_range(dados_reveillon.iat[i, 0], dados_reveillon.iat[i, 1]).date.tolist()\n",
        "  periodo_reveillon.append(datas_reveillon)\n",
        "  num_dias_reveillon += len(datas_reveillon)\n",
        "\n",
        "num_dias_carnaval = 0\n",
        "periodo_carnaval = []\n",
        "for i in range(len(dados_carnaval)):\n",
        "  datas_carnaval = pd.date_range(dados_carnaval.iat[i, 0], dados_carnaval.iat[i, 1]).date.tolist()\n",
        "  periodo_carnaval.append(datas_carnaval)\n",
        "  num_dias_carnaval += len(datas_carnaval)\n",
        "\n",
        "num_dias_rockrio = 0\n",
        "periodo_rockrio = []\n",
        "for i in range(len(dados_rockrio)):\n",
        "  datas_rockrio = pd.date_range(dados_rockrio.iat[i, 0], dados_rockrio.iat[i, 1]).date.tolist()\n",
        "  periodo_rockrio.append(datas_rockrio)\n",
        "  num_dias_rockrio += len(datas_rockrio)\n",
        "\n",
        "# Definição das partições para cada evento\n",
        "set_particoes_reveillon = set()\n",
        "for i in range(len(periodo_reveillon)):\n",
        "  particoes_periodo = [\n",
        "      pd.to_datetime(data).to_numpy().astype('datetime64[M]')\n",
        "      for data\n",
        "      in periodo_reveillon[i]\n",
        "  ]\n",
        "  set_particoes_reveillon.update(particoes_periodo)\n",
        "\n",
        "list_particoes_reveillon = list(set_particoes_reveillon)\n",
        "\n",
        "set_particoes_carnaval = set()\n",
        "for i in range(len(periodo_carnaval)):\n",
        "  particoes_periodo = [\n",
        "      pd.to_datetime(data).to_numpy().astype('datetime64[M]')\n",
        "      for data\n",
        "      in periodo_carnaval[i]\n",
        "  ]\n",
        "  set_particoes_carnaval.update(particoes_periodo)\n",
        "\n",
        "list_particoes_carnaval = list(set_particoes_carnaval)\n",
        "\n",
        "set_particoes_rockrio = set()\n",
        "for i in range(len(periodo_rockrio)):\n",
        "  particoes_periodo = [\n",
        "      pd.to_datetime(data).to_numpy().astype('datetime64[M]')\n",
        "      for data\n",
        "      in periodo_rockrio[i]\n",
        "  ]\n",
        "  set_particoes_rockrio.update(particoes_periodo)\n",
        "\n",
        "list_particoes_rockrio = list(set_particoes_rockrio)\n",
        "\n",
        "# Este e os dois loops abaixo, de mesma identação, fazem a soma dos chamados feitos em cada evento,\n",
        "# do determinado subtipo.\n",
        "soma_reveillon = 0\n",
        "for particao in list_particoes_reveillon:\n",
        "  dados_particao = chamados_2021_2022_2023[chamados_2021_2022_2023[\"data_particao\"] == particao]\n",
        "\n",
        "  for periodo in periodo_reveillon:\n",
        "    chamados_reveillon = [\n",
        "        # Nota-se que abaixo é utilizado a mesma lógica explicada na questão 6\n",
        "        sum((dados_particao[dados_particao[\"data_inicio\"].dt.date == data][\"subtipo\"] == \"Perturbação do sossego\").values.tolist())\n",
        "        for data\n",
        "        in periodo\n",
        "    ]\n",
        "\n",
        "    # Adiciona-se à soma total, a soma do número de chamados feitos em cada período do evento\n",
        "    soma_reveillon += sum(chamados_reveillon)\n",
        "\n",
        "soma_carnaval = 0\n",
        "for particao in list_particoes_carnaval:\n",
        "  dados_particao = chamados_2021_2022_2023[chamados_2021_2022_2023[\"data_particao\"] == particao]\n",
        "\n",
        "  for periodo in periodo_carnaval:\n",
        "    chamados_carnaval = [\n",
        "        sum((dados_particao[dados_particao[\"data_inicio\"].dt.date == data][\"subtipo\"] == \"Perturbação do sossego\").values.tolist())\n",
        "        for data\n",
        "        in periodo\n",
        "    ]\n",
        "\n",
        "    soma_carnaval += sum(chamados_carnaval)\n",
        "\n",
        "soma_rockrio = 0\n",
        "for particao in list_particoes_rockrio:\n",
        "  dados_particao = chamados_2021_2022_2023[chamados_2021_2022_2023[\"data_particao\"] == particao]\n",
        "\n",
        "  for periodo in periodo_rockrio:\n",
        "    chamados_rockrio = [\n",
        "        sum((dados_particao[dados_particao[\"data_inicio\"].dt.date == data][\"subtipo\"] == \"Perturbação do sossego\").values.tolist())\n",
        "        for data\n",
        "        in periodo\n",
        "    ]\n",
        "\n",
        "    soma_rockrio += sum(chamados_rockrio)\n",
        "\n",
        "print(\"8. Quantos chamados desse subtipo foram abertos em cada evento?\")\n",
        "print(\"Número de chamados no Reveillon: \", soma_reveillon)\n",
        "print(\"Número de chamados no Carnaval: \", soma_carnaval)\n",
        "print(\"Número de chamados no Rock in Rio: \", soma_rockrio)\n",
        "print(\"\\n\")\n",
        "print(\"9. Qual evento teve a maior média diária de chamados abertos desse subtipo?\")\n",
        "print(\"Média Reveillon: \", soma_reveillon/num_dias_reveillon)\n",
        "print(\"Média Carnaval: \", soma_carnaval/num_dias_carnaval)\n",
        "print(\"Média Rock in Rio: \", soma_rockrio/num_dias_rockrio)"
      ]
    },
    {
      "cell_type": "code",
      "execution_count": 20,
      "metadata": {
        "colab": {
          "base_uri": "https://localhost:8080/"
        },
        "id": "G2C0vwlGk-gx",
        "outputId": "7fb4f6c4-7834-404b-9839-bf25da5372cf"
      },
      "outputs": [
        {
          "name": "stdout",
          "output_type": "stream",
          "text": [
            "10. Compare as médias diárias de chamados abertos desse subtipo durante os eventos específicos (Reveillon, Carnaval e Rock in Rio) e a média diária de chamados abertos desse subtipo considerando todo o período de 01/01/2022 até 31/12/2023.\n",
            "Média diária do subtipo de 01/01/2022 até 31/12/2023:  63.20119225037258\n"
          ]
        }
      ],
      "source": [
        "# 10. Compare as médias diárias de chamados abertos desse subtipo durante os eventos específicos (Reveillon, Carnaval e Rock in Rio) e a média diária de chamados abertos desse subtipo considerando todo o período de 01/01/2022 até 31/12/2023.\n",
        "\n",
        "data_particoes = pd.date_range(start=\"01/01/2022\",end=\"31/12/2023\", freq=\"MS\").date\n",
        "\n",
        "soma_chamados = 0\n",
        "numero_dias = 0\n",
        "for particao in data_particoes:\n",
        "  dados_particao = chamados_2021_2022_2023[chamados_2021_2022_2023[\"data_particao\"] == particao]\n",
        "  dias = dados_particao[\"data_inicio\"].dt.date.unique()\n",
        "\n",
        "  chamados_subtipo_dia_mes = [\n",
        "      sum((dados_particao[dados_particao[\"data_inicio\"].dt.date == dia][\"subtipo\"] == \"Perturbação do sossego\").values.tolist()\n",
        "      )\n",
        "      for dia\n",
        "      in dias\n",
        "  ]\n",
        "\n",
        "  soma_chamados += sum(chamados_subtipo_dia_mes)\n",
        "\n",
        "  # Define-se o número de dias válidos (contidos na partição e com o determinado subtipo) através da contagem de valores diferentes\n",
        "  # de 0 (len(lista) - lista.count(0)). chamados_subtipo_dia_mes contém o número de chamados feitos em cada dia de uma partição.\n",
        "  # len(chamados_subtipo_dia_mes) retorna o número de dias na partição.\n",
        "  numero_dias += len(chamados_subtipo_dia_mes) - chamados_subtipo_dia_mes.count(0)\n",
        "\n",
        "print(\"10. Compare as médias diárias de chamados abertos desse subtipo durante os eventos específicos (Reveillon, Carnaval e Rock in Rio) e a média diária de chamados abertos desse subtipo considerando todo o período de 01/01/2022 até 31/12/2023.\")\n",
        "print(\"Média diária do subtipo de 01/01/2022 até 31/12/2023: \", soma_chamados/numero_dias)"
      ]
    }
  ],
  "metadata": {
    "colab": {
      "provenance": []
    },
    "kernelspec": {
      "display_name": "Python 3.9.6 ('env': venv)",
      "language": "python",
      "name": "python3"
    },
    "language_info": {
      "name": "python",
      "version": "3.9.6"
    },
    "vscode": {
      "interpreter": {
        "hash": "85373436ecf493a3734b68b36c1b8a3b8bb16f1dbb6a902dd22b594ce31e6a2a"
      }
    }
  },
  "nbformat": 4,
  "nbformat_minor": 0
}
